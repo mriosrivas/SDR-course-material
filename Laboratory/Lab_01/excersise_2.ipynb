{
 "cells": [
  {
   "cell_type": "code",
   "execution_count": null,
   "id": "a290bd61",
   "metadata": {},
   "outputs": [],
   "source": [
    "import numpy as np\n",
    "import matplotlib.pyplot as plt\n",
    "from scipy import signal\n",
    "from scipy.signal import resample_poly\n"
   ]
  },
  {
   "cell_type": "code",
   "execution_count": null,
   "id": "24434287",
   "metadata": {},
   "outputs": [],
   "source": [
    "from pathlib import Path"
   ]
  },
  {
   "cell_type": "code",
   "execution_count": null,
   "id": "9e83d61f",
   "metadata": {},
   "outputs": [],
   "source": [
    "def iq_plot(i_signal, q_signal):\n",
    "    plt.scatter(i_signal, q_signal)\n",
    "    plt.title(\"IQ Plot\")\n",
    "    plt.xlabel(\"I\")\n",
    "    plt.ylabel(\"Q\")\n",
    "    plt.show()\n",
    "\n",
    "def plot_power(signal, color=\"tab:blue\", alpha=1.0):\n",
    "    N = signal.shape[0]\n",
    "    freq = np.arange(f/-2, f/2, f/N)\n",
    "    fft_signal = np.fft.fft(signal)\n",
    "    power_signal = 10*np.log10(np.fft.fftshift(np.absolute(fft_signal)))\n",
    "    plt.plot(freq, power_signal, color=color, alpha=alpha)\n",
    "    plt.title(\"Signal Power [dB]\")\n",
    "    plt.xlabel(\"freq\")\n",
    "    plt.ylabel(\"dB\")\n",
    "    #plt.show()\n",
    "\n",
    "def get_spectogram(x):\n",
    "    sample_rate = 5e6\n",
    "    fft_size = 1024\n",
    "    num_rows = len(x) // fft_size # // is an integer division which rounds down\n",
    "    spectrogram = np.zeros((num_rows, fft_size))\n",
    "    for i in range(num_rows):\n",
    "        spectrogram[i,:] = 10*np.log10(np.abs(np.fft.fftshift(np.fft.fft(x[i*fft_size:(i+1)*fft_size])))**2)\n",
    "\n",
    "    plt.imshow(spectrogram, aspect='auto', extent = [sample_rate/-2/1e6, sample_rate/2/1e6, 0, len(x)/sample_rate])\n",
    "    plt.xlabel(\"Frequency [MHz]\")\n",
    "    plt.ylabel(\"Time [s]\")\n",
    "    plt.show()\n",
    "\n",
    "\n",
    "def time_sync(x):\n",
    "    samples = x # for the sake of matching the sync chapter\n",
    "    samples_interpolated = resample_poly(samples, 32, 1) # we'll use 32 as the interpolation factor, arbitrarily chosen, seems to work better than 16\n",
    "    sps = 2\n",
    "    mu = 0.01 # initial estimate of phase of sample\n",
    "    out = np.zeros(len(samples) + 10, dtype=np.complex64)\n",
    "    out_rail = np.zeros(len(samples) + 10, dtype=np.complex64) # stores values, each iteration we need the previous 2 values plus current value\n",
    "    i_in = 0 # input samples index\n",
    "    i_out = 2 # output index (let first two outputs be 0)\n",
    "    while i_out < len(samples) and i_in+32 < len(samples):\n",
    "        out[i_out] = samples_interpolated[i_in*32 + int(mu*32)] # grab what we think is the \"best\" sample\n",
    "        out_rail[i_out] = int(np.real(out[i_out]) > 0) + 1j*int(np.imag(out[i_out]) > 0)\n",
    "        x = (out_rail[i_out] - out_rail[i_out-2]) * np.conj(out[i_out-1])\n",
    "        y = (out[i_out] - out[i_out-2]) * np.conj(out_rail[i_out-1])\n",
    "        mm_val = np.real(y - x)\n",
    "        mu += sps + 0.01*mm_val\n",
    "        i_in += int(np.floor(mu)) # round down to nearest int since we are using it as an index\n",
    "        mu = mu - np.floor(mu) # remove the integer part of mu\n",
    "        i_out += 1 # increment output index\n",
    "    x = out[2:i_out] # remove the first two, and anything after i_out (that was never filled out)\n",
    "\n",
    "    return x\n",
    "\n",
    "\n",
    "# For QPSK\n",
    "def phase_detector_4(sample):\n",
    "    if sample.real > 0:\n",
    "        a = 1.0\n",
    "    else:\n",
    "        a = -1.0\n",
    "    if sample.imag > 0:\n",
    "        b = 1.0\n",
    "    else:\n",
    "        b = -1.0\n",
    "    return a * sample.imag - b * sample.real\n",
    "\n",
    "\n",
    "def fine_freq_sync(x):\n",
    "    # Fine freq sync\n",
    "    samples = x # for the sake of matching the sync chapter\n",
    "    N = len(samples)\n",
    "    phase = 0\n",
    "    freq = 0\n",
    "    # These next two params is what to adjust, to make the feedback loop faster or slower (which impacts stability)\n",
    "    alpha = 8e10\n",
    "    beta = 2.2\n",
    "    out = np.zeros(N, dtype=np.complex64)\n",
    "    freq_log = []\n",
    "    for i in range(N):\n",
    "        out[i] = samples[i] * np.exp(-1j*phase) # adjust the input sample by the inverse of the estimated phase offset\n",
    "        error = np.real(out[i]) * np.imag(out[i]) # This is the error formula for 2nd order Costas Loop (e.g. for BPSK)\n",
    "        #error = phase_detector_4(out[i])\n",
    "\n",
    "        # Advance the loop (recalc phase and freq offset)\n",
    "        freq += (beta * error)\n",
    "        freq_log.append(freq * sample_rate / (2*np.pi)) # convert from angular velocity to Hz for logging\n",
    "        phase += freq + (alpha * error)\n",
    "\n",
    "        # Optional: Adjust phase so its always between 0 and 2pi, recall that phase wraps around every 2pi\n",
    "        # while phase >= 2*np.pi:\n",
    "        #    phase -= 2*np.pi\n",
    "        # while phase < 0:\n",
    "        #    phase += 2*np.pi\n",
    "    x = out\n",
    "    return x, freq_log"
   ]
  },
  {
   "cell_type": "markdown",
   "id": "36a951f7",
   "metadata": {},
   "source": [
    "# Load Data"
   ]
  },
  {
   "cell_type": "code",
   "execution_count": null,
   "id": "2c3e76a5",
   "metadata": {},
   "outputs": [],
   "source": [
    "PATH = \"data\"\n",
    "\n",
    "# Frequency= 2460 MHz\n",
    "# RF Bandwidth = 25 MHz\n",
    "# FILE = \"capture_2460mhz\"\n",
    "\n",
    "# Frequency= 102.5 MHz\n",
    "# RF Bandwidth = 5 MHz\n",
    "FILE = \"capture_102_5mhz\"\n",
    "\n",
    "# Frequency= 848 MHz\n",
    "# RF Bandwidth = 10 MHz\n",
    "#FILE = \"capture_848mhz\""
   ]
  },
  {
   "cell_type": "code",
   "execution_count": null,
   "id": "09c357e0",
   "metadata": {},
   "outputs": [],
   "source": [
    "path = Path(PATH)\n",
    "data = np.loadtxt(path/FILE, skiprows=1)"
   ]
  },
  {
   "cell_type": "markdown",
   "id": "295a3526",
   "metadata": {},
   "source": [
    "# Data Conditioning"
   ]
  },
  {
   "cell_type": "code",
   "execution_count": null,
   "id": "cd170f61",
   "metadata": {},
   "outputs": [],
   "source": [
    "# Transform data into complex format\n",
    "\n",
    "# Create IQ components\n"
   ]
  },
  {
   "cell_type": "code",
   "execution_count": null,
   "id": "b7e2587d",
   "metadata": {},
   "outputs": [],
   "source": [
    "# Plot IQ signals\n"
   ]
  },
  {
   "cell_type": "code",
   "execution_count": null,
   "id": "994a0e71",
   "metadata": {},
   "outputs": [],
   "source": [
    "# Sampling parameters\n",
    "\n",
    "# Create a time vector\n",
    "\n",
    "\n",
    "# Tansform IQ data into a single signal\n",
    "\n",
    "# Received signal\n"
   ]
  },
  {
   "cell_type": "code",
   "execution_count": null,
   "id": "bc9d5ca5",
   "metadata": {},
   "outputs": [],
   "source": [
    "# Plot power\n"
   ]
  },
  {
   "cell_type": "code",
   "execution_count": null,
   "id": "754ca885",
   "metadata": {},
   "outputs": [],
   "source": [
    "# Plot spectogram\n"
   ]
  },
  {
   "cell_type": "markdown",
   "id": "33879979",
   "metadata": {},
   "source": [
    "# Frequency Shift"
   ]
  },
  {
   "cell_type": "code",
   "execution_count": null,
   "id": "1fcc5825",
   "metadata": {},
   "outputs": [],
   "source": [
    "# Freq shift\n"
   ]
  },
  {
   "cell_type": "code",
   "execution_count": null,
   "id": "bfc8f89e",
   "metadata": {},
   "outputs": [],
   "source": [
    "# Plot power of original and shifted signal\n"
   ]
  },
  {
   "cell_type": "code",
   "execution_count": null,
   "id": "f842c4ce",
   "metadata": {},
   "outputs": [],
   "source": [
    "# Plot spectogram\n"
   ]
  },
  {
   "cell_type": "markdown",
   "id": "02a74759",
   "metadata": {},
   "source": [
    "# Decimate Data"
   ]
  },
  {
   "cell_type": "code",
   "execution_count": null,
   "id": "58298f9d",
   "metadata": {},
   "outputs": [],
   "source": [
    "# Decimate data by a factor of 10\n"
   ]
  },
  {
   "cell_type": "code",
   "execution_count": null,
   "id": "73e57196",
   "metadata": {},
   "outputs": [],
   "source": [
    "# Plot power of decimated signal\n"
   ]
  },
  {
   "cell_type": "code",
   "execution_count": null,
   "id": "7697e28b",
   "metadata": {},
   "outputs": [],
   "source": [
    "# Plot spectogram\n"
   ]
  },
  {
   "cell_type": "markdown",
   "id": "20e64c26",
   "metadata": {},
   "source": [
    "# Filter Data"
   ]
  },
  {
   "cell_type": "code",
   "execution_count": null,
   "id": "56eeea17",
   "metadata": {},
   "outputs": [],
   "source": [
    "# Filter parameters\n",
    "\n",
    "# create our low pass filter\n"
   ]
  },
  {
   "cell_type": "code",
   "execution_count": null,
   "id": "6001109d",
   "metadata": {},
   "outputs": [],
   "source": [
    "# plot the impulse response of filter\n"
   ]
  },
  {
   "cell_type": "code",
   "execution_count": null,
   "id": "2dfae5a0",
   "metadata": {},
   "outputs": [],
   "source": [
    "# Plot spectogram\n"
   ]
  },
  {
   "cell_type": "code",
   "execution_count": null,
   "id": "dfcf901a",
   "metadata": {},
   "outputs": [],
   "source": [
    "# Filter decimated signal by use of convolution\n"
   ]
  },
  {
   "cell_type": "code",
   "execution_count": null,
   "id": "2ef31dd0",
   "metadata": {},
   "outputs": [],
   "source": [
    "# Plot power of filtered signal\n"
   ]
  },
  {
   "cell_type": "code",
   "execution_count": null,
   "id": "5c485acd",
   "metadata": {},
   "outputs": [],
   "source": [
    "# Plot spectogram\n"
   ]
  },
  {
   "cell_type": "code",
   "execution_count": null,
   "id": "3c5e53e6",
   "metadata": {},
   "outputs": [],
   "source": [
    "# Plot IQ plot of filtered signal\n"
   ]
  },
  {
   "cell_type": "markdown",
   "id": "c52434db",
   "metadata": {},
   "source": [
    "# Time Synch"
   ]
  },
  {
   "cell_type": "code",
   "execution_count": null,
   "id": "94f7d57d",
   "metadata": {},
   "outputs": [],
   "source": [
    "# Apply time synchonization correction\n"
   ]
  },
  {
   "cell_type": "code",
   "execution_count": null,
   "id": "61fea02b",
   "metadata": {},
   "outputs": [],
   "source": [
    "# Plot corrected IQ  signals\n"
   ]
  }
 ],
 "metadata": {
  "kernelspec": {
   "display_name": "Python 3 (ipykernel)",
   "language": "python",
   "name": "python3"
  },
  "language_info": {
   "codemirror_mode": {
    "name": "ipython",
    "version": 3
   },
   "file_extension": ".py",
   "mimetype": "text/x-python",
   "name": "python",
   "nbconvert_exporter": "python",
   "pygments_lexer": "ipython3",
   "version": "3.8.15"
  }
 },
 "nbformat": 4,
 "nbformat_minor": 5
}
