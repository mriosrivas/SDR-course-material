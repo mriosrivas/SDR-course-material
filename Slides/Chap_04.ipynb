{
 "cells": [
  {
   "cell_type": "code",
   "execution_count": 1,
   "id": "17457675",
   "metadata": {},
   "outputs": [],
   "source": [
    "import numpy as np\n",
    "import pandas as pd"
   ]
  },
  {
   "cell_type": "code",
   "execution_count": 2,
   "id": "d4ba86d7",
   "metadata": {},
   "outputs": [],
   "source": [
    "def eff_pam(b):\n",
    "    return (12*b)/(2**(2*b)-1)"
   ]
  },
  {
   "cell_type": "code",
   "execution_count": 3,
   "id": "dd1a9404",
   "metadata": {},
   "outputs": [],
   "source": [
    "def eff_psk(b):\n",
    "    return 4*b*np.square(np.sin(np.pi/(2**b)))"
   ]
  },
  {
   "cell_type": "code",
   "execution_count": 4,
   "id": "3c362c86",
   "metadata": {},
   "outputs": [],
   "source": [
    "def eff_qam(b):\n",
    "    return 6*b/(2**b-1)"
   ]
  },
  {
   "cell_type": "code",
   "execution_count": 5,
   "id": "4b54dd5a",
   "metadata": {},
   "outputs": [],
   "source": [
    "def pow_eff(fun, b):\n",
    "    return 10*np.log10(4/fun(b))"
   ]
  },
  {
   "cell_type": "code",
   "execution_count": 6,
   "id": "b2631826",
   "metadata": {},
   "outputs": [],
   "source": [
    "b = np.arange(1,7)"
   ]
  },
  {
   "cell_type": "code",
   "execution_count": 7,
   "id": "fcd1c73f",
   "metadata": {},
   "outputs": [],
   "source": [
    "M = 2**b"
   ]
  },
  {
   "cell_type": "code",
   "execution_count": 8,
   "id": "4dce52b9",
   "metadata": {},
   "outputs": [],
   "source": [
    "pam = eff_pam(b)"
   ]
  },
  {
   "cell_type": "code",
   "execution_count": 9,
   "id": "0795e3fc",
   "metadata": {},
   "outputs": [],
   "source": [
    "psk = eff_psk(b)"
   ]
  },
  {
   "cell_type": "code",
   "execution_count": 10,
   "id": "f4e46170",
   "metadata": {},
   "outputs": [],
   "source": [
    "qam = eff_qam(b)"
   ]
  },
  {
   "cell_type": "code",
   "execution_count": 11,
   "id": "62744071",
   "metadata": {},
   "outputs": [],
   "source": [
    "p_pam = pow_eff(eff_pam, b)"
   ]
  },
  {
   "cell_type": "code",
   "execution_count": 12,
   "id": "9c9f372f",
   "metadata": {},
   "outputs": [],
   "source": [
    "p_psk = pow_eff(eff_psk, b)"
   ]
  },
  {
   "cell_type": "code",
   "execution_count": 13,
   "id": "196a9b9c",
   "metadata": {},
   "outputs": [],
   "source": [
    "p_qam = pow_eff(eff_qam, b)"
   ]
  },
  {
   "cell_type": "code",
   "execution_count": 14,
   "id": "dad83a79",
   "metadata": {},
   "outputs": [],
   "source": [
    "mods = pd.DataFrame(data=np.round(np.array([M, pam, psk, qam, p_pam, p_psk, p_qam]),1).T,\n",
    "                    columns=['M', 'ε-pam', 'ε-psk', 'ε-qam', '𝛿-pam', '𝛿-psk', '𝛿-qam'])"
   ]
  },
  {
   "cell_type": "code",
   "execution_count": 15,
   "id": "9ab2933c",
   "metadata": {},
   "outputs": [],
   "source": [
    "mods.index = np.arange(1,7)"
   ]
  },
  {
   "cell_type": "code",
   "execution_count": 16,
   "id": "446d339c",
   "metadata": {},
   "outputs": [],
   "source": [
    "mods.index.rename('bits', inplace=True)"
   ]
  },
  {
   "cell_type": "code",
   "execution_count": 17,
   "id": "9be58fe3",
   "metadata": {},
   "outputs": [
    {
     "data": {
      "text/html": [
       "<div>\n",
       "<style scoped>\n",
       "    .dataframe tbody tr th:only-of-type {\n",
       "        vertical-align: middle;\n",
       "    }\n",
       "\n",
       "    .dataframe tbody tr th {\n",
       "        vertical-align: top;\n",
       "    }\n",
       "\n",
       "    .dataframe thead th {\n",
       "        text-align: right;\n",
       "    }\n",
       "</style>\n",
       "<table border=\"1\" class=\"dataframe\">\n",
       "  <thead>\n",
       "    <tr style=\"text-align: right;\">\n",
       "      <th></th>\n",
       "      <th>bits</th>\n",
       "      <th>M</th>\n",
       "      <th>ε-pam</th>\n",
       "      <th>ε-psk</th>\n",
       "      <th>ε-qam</th>\n",
       "      <th>𝛿-pam</th>\n",
       "      <th>𝛿-psk</th>\n",
       "      <th>𝛿-qam</th>\n",
       "    </tr>\n",
       "  </thead>\n",
       "  <tbody>\n",
       "    <tr>\n",
       "      <th>0</th>\n",
       "      <td>1</td>\n",
       "      <td>2.0</td>\n",
       "      <td>4.0</td>\n",
       "      <td>4.0</td>\n",
       "      <td>6.0</td>\n",
       "      <td>0.0</td>\n",
       "      <td>0.0</td>\n",
       "      <td>-1.8</td>\n",
       "    </tr>\n",
       "    <tr>\n",
       "      <th>1</th>\n",
       "      <td>2</td>\n",
       "      <td>4.0</td>\n",
       "      <td>1.6</td>\n",
       "      <td>4.0</td>\n",
       "      <td>4.0</td>\n",
       "      <td>4.0</td>\n",
       "      <td>0.0</td>\n",
       "      <td>0.0</td>\n",
       "    </tr>\n",
       "    <tr>\n",
       "      <th>2</th>\n",
       "      <td>3</td>\n",
       "      <td>8.0</td>\n",
       "      <td>0.6</td>\n",
       "      <td>1.8</td>\n",
       "      <td>2.6</td>\n",
       "      <td>8.5</td>\n",
       "      <td>3.6</td>\n",
       "      <td>1.9</td>\n",
       "    </tr>\n",
       "    <tr>\n",
       "      <th>3</th>\n",
       "      <td>4</td>\n",
       "      <td>16.0</td>\n",
       "      <td>0.2</td>\n",
       "      <td>0.6</td>\n",
       "      <td>1.6</td>\n",
       "      <td>13.3</td>\n",
       "      <td>8.2</td>\n",
       "      <td>4.0</td>\n",
       "    </tr>\n",
       "    <tr>\n",
       "      <th>4</th>\n",
       "      <td>5</td>\n",
       "      <td>32.0</td>\n",
       "      <td>0.1</td>\n",
       "      <td>0.2</td>\n",
       "      <td>1.0</td>\n",
       "      <td>18.3</td>\n",
       "      <td>13.2</td>\n",
       "      <td>6.2</td>\n",
       "    </tr>\n",
       "    <tr>\n",
       "      <th>5</th>\n",
       "      <td>6</td>\n",
       "      <td>64.0</td>\n",
       "      <td>0.0</td>\n",
       "      <td>0.1</td>\n",
       "      <td>0.6</td>\n",
       "      <td>23.6</td>\n",
       "      <td>18.4</td>\n",
       "      <td>8.5</td>\n",
       "    </tr>\n",
       "  </tbody>\n",
       "</table>\n",
       "</div>"
      ],
      "text/plain": [
       "   bits     M  ε-pam  ε-psk  ε-qam  𝛿-pam  𝛿-psk  𝛿-qam\n",
       "0     1   2.0    4.0    4.0    6.0    0.0    0.0   -1.8\n",
       "1     2   4.0    1.6    4.0    4.0    4.0    0.0    0.0\n",
       "2     3   8.0    0.6    1.8    2.6    8.5    3.6    1.9\n",
       "3     4  16.0    0.2    0.6    1.6   13.3    8.2    4.0\n",
       "4     5  32.0    0.1    0.2    1.0   18.3   13.2    6.2\n",
       "5     6  64.0    0.0    0.1    0.6   23.6   18.4    8.5"
      ]
     },
     "execution_count": 17,
     "metadata": {},
     "output_type": "execute_result"
    }
   ],
   "source": [
    "mods.reset_index()"
   ]
  },
  {
   "cell_type": "code",
   "execution_count": 23,
   "id": "a2701f1b",
   "metadata": {},
   "outputs": [],
   "source": [
    "mods['ε-qam'].loc[1] = np.nan\n",
    "mods['ε-qam'].loc[3] = np.nan\n",
    "mods['ε-qam'].loc[5] = np.nan\n",
    "\n",
    "mods['𝛿-qam'].loc[1] = np.nan\n",
    "mods['𝛿-qam'].loc[3] = np.nan\n",
    "mods['𝛿-qam'].loc[5] = np.nan"
   ]
  },
  {
   "cell_type": "code",
   "execution_count": 25,
   "id": "5959373c",
   "metadata": {},
   "outputs": [
    {
     "data": {
      "text/html": [
       "<div>\n",
       "<style scoped>\n",
       "    .dataframe tbody tr th:only-of-type {\n",
       "        vertical-align: middle;\n",
       "    }\n",
       "\n",
       "    .dataframe tbody tr th {\n",
       "        vertical-align: top;\n",
       "    }\n",
       "\n",
       "    .dataframe thead th {\n",
       "        text-align: right;\n",
       "    }\n",
       "</style>\n",
       "<table border=\"1\" class=\"dataframe\">\n",
       "  <thead>\n",
       "    <tr style=\"text-align: right;\">\n",
       "      <th></th>\n",
       "      <th>bits</th>\n",
       "      <th>M</th>\n",
       "      <th>ε-pam</th>\n",
       "      <th>ε-psk</th>\n",
       "      <th>ε-qam</th>\n",
       "      <th>𝛿-pam</th>\n",
       "      <th>𝛿-psk</th>\n",
       "      <th>𝛿-qam</th>\n",
       "    </tr>\n",
       "  </thead>\n",
       "  <tbody>\n",
       "    <tr>\n",
       "      <th>0</th>\n",
       "      <td>1</td>\n",
       "      <td>2.0</td>\n",
       "      <td>4.0</td>\n",
       "      <td>4.0</td>\n",
       "      <td>NaN</td>\n",
       "      <td>0.0</td>\n",
       "      <td>0.0</td>\n",
       "      <td>NaN</td>\n",
       "    </tr>\n",
       "    <tr>\n",
       "      <th>1</th>\n",
       "      <td>2</td>\n",
       "      <td>4.0</td>\n",
       "      <td>1.6</td>\n",
       "      <td>4.0</td>\n",
       "      <td>4.0</td>\n",
       "      <td>4.0</td>\n",
       "      <td>0.0</td>\n",
       "      <td>0.0</td>\n",
       "    </tr>\n",
       "    <tr>\n",
       "      <th>2</th>\n",
       "      <td>3</td>\n",
       "      <td>8.0</td>\n",
       "      <td>0.6</td>\n",
       "      <td>1.8</td>\n",
       "      <td>NaN</td>\n",
       "      <td>8.5</td>\n",
       "      <td>3.6</td>\n",
       "      <td>NaN</td>\n",
       "    </tr>\n",
       "    <tr>\n",
       "      <th>3</th>\n",
       "      <td>4</td>\n",
       "      <td>16.0</td>\n",
       "      <td>0.2</td>\n",
       "      <td>0.6</td>\n",
       "      <td>1.6</td>\n",
       "      <td>13.3</td>\n",
       "      <td>8.2</td>\n",
       "      <td>4.0</td>\n",
       "    </tr>\n",
       "    <tr>\n",
       "      <th>4</th>\n",
       "      <td>5</td>\n",
       "      <td>32.0</td>\n",
       "      <td>0.1</td>\n",
       "      <td>0.2</td>\n",
       "      <td>NaN</td>\n",
       "      <td>18.3</td>\n",
       "      <td>13.2</td>\n",
       "      <td>NaN</td>\n",
       "    </tr>\n",
       "    <tr>\n",
       "      <th>5</th>\n",
       "      <td>6</td>\n",
       "      <td>64.0</td>\n",
       "      <td>0.0</td>\n",
       "      <td>0.1</td>\n",
       "      <td>0.6</td>\n",
       "      <td>23.6</td>\n",
       "      <td>18.4</td>\n",
       "      <td>8.5</td>\n",
       "    </tr>\n",
       "  </tbody>\n",
       "</table>\n",
       "</div>"
      ],
      "text/plain": [
       "   bits     M  ε-pam  ε-psk  ε-qam  𝛿-pam  𝛿-psk  𝛿-qam\n",
       "0     1   2.0    4.0    4.0    NaN    0.0    0.0    NaN\n",
       "1     2   4.0    1.6    4.0    4.0    4.0    0.0    0.0\n",
       "2     3   8.0    0.6    1.8    NaN    8.5    3.6    NaN\n",
       "3     4  16.0    0.2    0.6    1.6   13.3    8.2    4.0\n",
       "4     5  32.0    0.1    0.2    NaN   18.3   13.2    NaN\n",
       "5     6  64.0    0.0    0.1    0.6   23.6   18.4    8.5"
      ]
     },
     "execution_count": 25,
     "metadata": {},
     "output_type": "execute_result"
    }
   ],
   "source": [
    "mods.reset_index()"
   ]
  },
  {
   "cell_type": "code",
   "execution_count": null,
   "id": "4bb51501",
   "metadata": {},
   "outputs": [],
   "source": []
  }
 ],
 "metadata": {
  "kernelspec": {
   "display_name": "Python 3 (ipykernel)",
   "language": "python",
   "name": "python3"
  },
  "language_info": {
   "codemirror_mode": {
    "name": "ipython",
    "version": 3
   },
   "file_extension": ".py",
   "mimetype": "text/x-python",
   "name": "python",
   "nbconvert_exporter": "python",
   "pygments_lexer": "ipython3",
   "version": "3.8.15"
  }
 },
 "nbformat": 4,
 "nbformat_minor": 5
}
